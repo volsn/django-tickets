{
 "cells": [
  {
   "cell_type": "code",
   "execution_count": 2,
   "metadata": {},
   "outputs": [],
   "source": [
    "from bs4 import BeautifulSoup"
   ]
  },
  {
   "cell_type": "code",
   "execution_count": 4,
   "metadata": {},
   "outputs": [],
   "source": [
    "with open('Cinema.xml', 'r') as file:\n",
    "    contents = file.read()\n",
    "    soup = BeautifulSoup(contents, 'lxml')"
   ]
  },
  {
   "cell_type": "code",
   "execution_count": null,
   "metadata": {},
   "outputs": [],
   "source": []
  },
  {
   "cell_type": "code",
   "execution_count": 40,
   "metadata": {},
   "outputs": [],
   "source": [
    "movies = []\n",
    "for movie in soup.find_all('movie'):\n",
    "    movies.append((movie['id'], movie['name']))\n",
    "movies = set(movies)"
   ]
  },
  {
   "cell_type": "code",
   "execution_count": 42,
   "metadata": {},
   "outputs": [
    {
     "data": {
      "text/plain": [
       "{('01683097-397e-4cfe-9dbf-40b73a8b2b43', 'Зеленая книга'),\n",
       " ('051eaee5-0bc5-43f4-8435-20e3498083cc', 'Стекло'),\n",
       " ('22d41e99-6a1b-4d1b-9adf-dd6fbba3835b', 'Лего фильм 2'),\n",
       " ('ed0c5c20-4259-4b09-823a-1a6531221060', 'Власть')}"
      ]
     },
     "execution_count": 42,
     "metadata": {},
     "output_type": "execute_result"
    }
   ],
   "source": [
    "movies"
   ]
  },
  {
   "cell_type": "code",
   "execution_count": null,
   "metadata": {},
   "outputs": [],
   "source": []
  },
  {
   "cell_type": "code",
   "execution_count": 48,
   "metadata": {},
   "outputs": [
    {
     "name": "stdout",
     "output_type": "stream",
     "text": [
      "<date value=\"2019-02-25\">\n",
      " <movies>\n",
      "  <movie id=\"ed0c5c20-4259-4b09-823a-1a6531221060\" name=\"Власть\">\n",
      "   <sessions>\n",
      "    <session time=\"10:30\">\n",
      "    </session>\n",
      "    <session time=\"19:00\">\n",
      "    </session>\n",
      "   </sessions>\n",
      "  </movie>\n",
      "  <movie id=\"051eaee5-0bc5-43f4-8435-20e3498083cc\" name=\"Стекло\">\n",
      "   <sessions>\n",
      "    <session time=\"10:00\">\n",
      "    </session>\n",
      "   </sessions>\n",
      "  </movie>\n",
      " </movies>\n",
      "</date>\n",
      "\n"
     ]
    }
   ],
   "source": [
    "print(soup.find_all('date')[0].prettify())"
   ]
  },
  {
   "cell_type": "code",
   "execution_count": null,
   "metadata": {},
   "outputs": [],
   "source": []
  },
  {
   "cell_type": "code",
   "execution_count": null,
   "metadata": {},
   "outputs": [],
   "source": []
  },
  {
   "cell_type": "code",
   "execution_count": null,
   "metadata": {},
   "outputs": [],
   "source": []
  },
  {
   "cell_type": "code",
   "execution_count": null,
   "metadata": {},
   "outputs": [],
   "source": []
  },
  {
   "cell_type": "code",
   "execution_count": null,
   "metadata": {},
   "outputs": [],
   "source": []
  }
 ],
 "metadata": {
  "kernelspec": {
   "display_name": "Python 3",
   "language": "python",
   "name": "python3"
  },
  "language_info": {
   "codemirror_mode": {
    "name": "ipython",
    "version": 3
   },
   "file_extension": ".py",
   "mimetype": "text/x-python",
   "name": "python",
   "nbconvert_exporter": "python",
   "pygments_lexer": "ipython3",
   "version": "3.7.7"
  }
 },
 "nbformat": 4,
 "nbformat_minor": 4
}
